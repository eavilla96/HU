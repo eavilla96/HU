{
  "nbformat": 4,
  "nbformat_minor": 0,
  "metadata": {
    "colab": {
      "provenance": []
    },
    "kernelspec": {
      "name": "python3",
      "display_name": "Python 3"
    },
    "language_info": {
      "name": "python"
    }
  },
  "cells": [
    {
      "cell_type": "code",
      "execution_count": 10,
      "metadata": {
        "id": "2v2-ZbevRqXW"
      },
      "outputs": [],
      "source": []
    },
    {
      "cell_type": "code",
      "source": [
        "%load_ext rpy2.ipython\n"
      ],
      "metadata": {
        "colab": {
          "base_uri": "https://localhost:8080/"
        },
        "id": "SiCbnRF3YbCU",
        "outputId": "e33f5457-c179-42b6-dd31-1e5c4d9ece19"
      },
      "execution_count": 11,
      "outputs": [
        {
          "output_type": "stream",
          "name": "stdout",
          "text": [
            "The rpy2.ipython extension is already loaded. To reload it, use:\n",
            "  %reload_ext rpy2.ipython\n"
          ]
        }
      ]
    },
    {
      "cell_type": "code",
      "source": [
        "import unittest\n",
        "\n",
        "# Define the functions to be tested\n",
        "def addition(x, y):\n",
        "    return x + y\n",
        "\n",
        "def subtraction(x, y):\n",
        "    return x - y\n",
        "\n",
        "def multiplication(x, y):\n",
        "    return x * y\n",
        "\n",
        "def division(x, y):\n",
        "    if y == 0:\n",
        "        raise ValueError(\"Division by zero is not allowed\")\n",
        "    return x / y\n",
        "\n",
        "# Define a test class\n",
        "class TestMathFunctions(unittest.TestCase):\n",
        "\n",
        "    def test_addition(self):\n",
        "        self.assertEqual(addition(2, 3), 5)\n",
        "        self.assertEqual(addition(-2, 3), 1)\n",
        "        self.assertEqual(addition(0, 0), 0)\n",
        "\n",
        "    def test_subtraction(self):\n",
        "        self.assertEqual(subtraction(5, 3), 2)\n",
        "        self.assertEqual(subtraction(3, 5), -2)\n",
        "        self.assertEqual(subtraction(0, 0), 0)\n",
        "\n",
        "    def test_multiplication(self):\n",
        "        self.assertEqual(multiplication(2, 3), 6)\n",
        "        self.assertEqual(multiplication(-2, 3), -6)\n",
        "        self.assertEqual(multiplication(0, 5), 0)\n",
        "\n",
        "    def test_division(self):\n",
        "        self.assertEqual(division(6, 3), 2)\n",
        "        self.assertEqual(division(6, -3), -2)\n",
        "        self.assertEqual(division(0, 5), 0)\n",
        "        with self.assertRaises(ValueError):\n",
        "            division(6, 0)\n",
        "\n",
        "# Run the tests if this script is executed directly\n",
        "#if __name__ == '__main__':\n",
        " #   unittest.main()"
      ],
      "metadata": {
        "id": "cGTVFpNVaOec"
      },
      "execution_count": 12,
      "outputs": []
    },
    {
      "cell_type": "code",
      "source": [
        "import re\n",
        "\n",
        "text = \"To make an appointment, please email me at marryg@gmail.com or marryg@harrisburgU.edu\"\n",
        "\n",
        "# Task 1: Check if the string contains the word \"please\"\n",
        "if re.search(r'\\bplease\\b', text):\n",
        "    print(\"The string contains the word 'please'\")\n",
        "else:\n",
        "    print(\"The string does not contain the word 'please'\")\n",
        "\n",
        "# Task 2: Find all email addresses in the string\n",
        "email_addresses = re.findall(r'\\b[A-Za-z0-9._%+-]+@[A-Za-z0-9.-]+\\.[A-Z|a-z]{2,}\\b', text)\n",
        "print(\"Email addresses found in the string:\")\n",
        "for email in email_addresses:\n",
        "    print(email)"
      ],
      "metadata": {
        "colab": {
          "base_uri": "https://localhost:8080/"
        },
        "id": "oyCsNjKVbmj-",
        "outputId": "fef67f1b-a0d6-49bf-a69f-5e28133cbcd1"
      },
      "execution_count": 13,
      "outputs": [
        {
          "output_type": "stream",
          "name": "stdout",
          "text": [
            "The string contains the word 'please'\n",
            "Email addresses found in the string:\n",
            "marryg@gmail.com\n",
            "marryg@harrisburgU.edu\n"
          ]
        }
      ]
    }
  ]
}